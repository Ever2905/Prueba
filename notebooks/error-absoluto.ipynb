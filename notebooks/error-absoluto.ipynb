{
 "cells": [
  {
   "cell_type": "code",
   "execution_count": 14,
   "metadata": {},
   "outputs": [
    {
     "ename": "SyntaxError",
     "evalue": "invalid decimal literal (3930084123.py, line 9)",
     "output_type": "error",
     "traceback": [
      "\u001b[0;36m  Cell \u001b[0;32mIn[14], line 9\u001b[0;36m\u001b[0m\n\u001b[0;31m    - $V_E=12.5cm$;\u001b[0m\n\u001b[0m              ^\u001b[0m\n\u001b[0;31mSyntaxError\u001b[0m\u001b[0;31m:\u001b[0m invalid decimal literal\n"
     ]
    }
   ],
   "source": [
    " \n",
    "# error absoluto:\n",
    "error absoluto es igual a la imprecision qué acompaña ala medida.\n",
    "\n",
    "Determinar error absoluto del panecillo y la cirugía \n",
    "\n",
    "\n",
    "\n",
    "# panecillo \n",
    "- $V_E=12.5cm$;\n",
    "- $V_A=12.6cm$;\n",
    "\n",
    "#cirugia \n",
    "-$V_E=0.4cm$\n",
    "-$V_A=0.3cm$\n",
    "\n",
    "#Datos del panecillo \n",
    "-$V_exacto_pan=12.5$\n",
    "-$V_aprox_pan=12.6$\n",
    "\n",
    "###Datos de la cirugia \n",
    "-$V_exacto_cirugia=0.4$\n",
    "-$V_aprox_cirugia=0.3$\n",
    "\n",
    "#Resultado FINAL \n",
    "-e_abs_pan=abs(v-exacto-pan=v_aprox_pan)\n",
    "-e_abs_cirugia=abs(v_exacto_cirugia=v_aprox_cirugia)\n",
    "\n",
    "\n",
    "\n",
    "\n"
   ]
  },
  {
   "cell_type": "code",
   "execution_count": null,
   "metadata": {},
   "outputs": [],
   "source": [
    "#panecillo \n",
    "- $V_E=12.5$;\n",
    "- $V_A=12.6cm$;\n",
    "\n",
    "#cirugia \n",
    "-$V_E=0.4cm$\n",
    "-$V_A=0.3cm$\n",
    "\n",
    "#Datos del panecillo \n",
    "-$V_exacto_pan=12.5$\n",
    "-$V_aprox_pan=12.6$\n",
    "\n",
    "#Datos de la cirugia \n",
    "-$V_exacto_cirugia=0.4$\n",
    "-$V_aprox_cirugia=0.3$\n",
    "\n",
    "#Resultado FINAL \n",
    "-e_abs_pan=abs(v-exacto-pan=v_aprox_pan)\n",
    "-e_abs_cirugia=abs(v_exacto_cirugia=v_aprox_cirugia)"
   ]
  },
  {
   "cell_type": "markdown",
   "metadata": {},
   "source": [
    " # Error absoluto:\n",
    "Error es igual a la imprecision que acompaña a la medida\n",
    "Determinar error absoluto del panecillo y cirugia"
   ]
  },
  {
   "cell_type": "markdown",
   "metadata": {},
   "source": [
    "Determinar error absoluto del panecillo y cirugia\n",
    "# panecillo \n",
    "- $V_E=12.5$\n",
    "- $V_A=12.6cm$\n",
    "\n",
    "# cirugia \n",
    "- $V_E=0.4cm$\n",
    "- $V_A=0.3cm$"
   ]
  }
 ],
 "metadata": {
  "kernelspec": {
   "display_name": "Python 3",
   "language": "python",
   "name": "python3"
  },
  "language_info": {
   "codemirror_mode": {
    "name": "ipython",
    "version": 3
   },
   "file_extension": ".py",
   "mimetype": "text/x-python",
   "name": "python",
   "nbconvert_exporter": "python",
   "pygments_lexer": "ipython3",
   "version": "3.10.13"
  }
 },
 "nbformat": 4,
 "nbformat_minor": 2
}
